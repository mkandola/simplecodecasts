{
  "nbformat": 4,
  "nbformat_minor": 0,
  "metadata": {
    "colab": {
      "name": "QnA demo.ipynb",
      "provenance": [],
      "include_colab_link": true
    },
    "kernelspec": {
      "name": "python3",
      "display_name": "Python 3"
    }
  },
  "cells": [
    {
      "cell_type": "markdown",
      "metadata": {
        "id": "view-in-github",
        "colab_type": "text"
      },
      "source": [
        "<a href=\"https://colab.research.google.com/github/mkandola/simplecodecasts/blob/master/QnA_tool.ipynb\" target=\"_parent\"><img src=\"https://colab.research.google.com/assets/colab-badge.svg\" alt=\"Open In Colab\"/></a>"
      ]
    },
    {
      "cell_type": "code",
      "metadata": {
        "id": "dBxpOZXGPBB5"
      },
      "source": [
        "!pip install allennlp"
      ],
      "execution_count": null,
      "outputs": []
    },
    {
      "cell_type": "code",
      "metadata": {
        "id": "kj5aBjVkPEti",
        "outputId": "6ce63083-ad4a-4a2f-8940-899078921783",
        "colab": {
          "base_uri": "https://localhost:8080/",
          "height": 122
        }
      },
      "source": [
        "from allennlp.predictors.predictor import Predictor\n",
        "predictor = Predictor.from_path(\"https://s3-us-west-2.amazonaws.com/allennlp/models/bidaf-model-2017.09.15-charpad.tar.gz\")\n"
      ],
      "execution_count": null,
      "outputs": [
        {
          "output_type": "stream",
          "text": [
            "100%|██████████| 46175392/46175392 [00:00<00:00, 68543838.41B/s]\n",
            "/usr/local/lib/python3.6/dist-packages/torch/nn/modules/rnn.py:54: UserWarning: dropout option adds dropout after all but last recurrent layer, so non-zero dropout expects num_layers greater than 1, but got dropout=0.2 and num_layers=1\n",
            "  \"num_layers={}\".format(dropout, num_layers))\n",
            "/usr/local/lib/python3.6/dist-packages/allennlp/data/token_indexers/token_characters_indexer.py:56: UserWarning: You are using the default value (0) of `min_padding_length`, which can cause some subtle bugs (more info see https://github.com/allenai/allennlp/issues/1954). Strongly recommend to set a value, usually the maximum size of the convolutional layer size when using CnnEncoder.\n",
            "  UserWarning)\n"
          ],
          "name": "stderr"
        }
      ]
    },
    {
      "cell_type": "code",
      "metadata": {
        "id": "xljZvHLxPmpD"
      },
      "source": [
        "passage = \"\"\"\n",
        "BPet food\n",
        "From Wikipedia, the free encyclopedia\n",
        "Jump to navigationJump to search\n",
        "\n",
        "A supermarket's pet food aisle in Brooklyn, New York\n",
        "Pet food is plant or animal material intended for consumption by pets. Typically sold in pet stores and supermarkets, it is usually specific to the type of animal, such as dog food or cat food. Most meat used for nonhuman animals is a byproduct of the human food industry, and is not regarded as \"human grade\".[1]\n",
        "\n",
        "In 2018, the world pet food market was valued at US$87.08 billion and is projected to grow to US$113.2 billion by the year 2024.[2] The pet food market is dominated by five major companies, as of 2019: Mars, Inc., Nestle Purina Petcare, J. M. Smucker, Hill's Pet Nutrition, Inc. (owned by Colgate-Palmolive), and Blue Buffalo Co. Ltd (owned by General Mills).[2]\n",
        "\n",
        "\n",
        "Contents\n",
        "1\tIndustry\n",
        "2\tImpact\n",
        "3\tFish food\n",
        "4\tBird food\n",
        "5\tCat food\n",
        "6\tDog food\n",
        "7\tRaw feeding\n",
        "8\tFeeding human foods to animals\n",
        "9\tLabeling and regulation\n",
        "9.1\tUnited States\n",
        "9.2\tCanada\n",
        "9.3\tEuropean Union\n",
        "10\t2007 recalls\n",
        "11\tSee also\n",
        "12\tReferences\n",
        "Industry\n",
        "In the United States, pet-food sales in 2016 reached an all-time high of $28.23 billion.[3] Mars is the leading company in the pet food industry, making about $17 billion annually in pet-care products.[4] Online sales of pet food are increasing and contributing to this growth. Online sales in the US increased 15 percent in 2015.[5] Worldwide, the compound annual growth rate of pet food purchased online was more than 25% between 2013–2018.[6] As of 2015 the US leads the world in pet-food spending.[7]\n",
        "\n",
        "Formulations of mainstream commercial pet foods are generally based on nutrition research and many manufacturers undertake animal nutrition studies. For instance, Mars, Incorporated funds the Waltham Centre for Pet Nutrition, which undertakes scientific research into pet nutrition and wellbeing, sharing its findings in publicly available peer-reviewed journals.\n",
        "\n",
        "Impact\n",
        "Given the carnivorous dietary habits of many pets (especially cats and dogs), involving the consumption of an estimated fifth of the world's meat and fish, the impact of pet-food production on carbon footprints and on climate change becomes an issue.[8]\n",
        "\n",
        "Fish food\n",
        "Main article: Fish food\n",
        "Fish foods normally contain macronutrients, trace elements and vitamins necessary to keep captive fish in good health. Approximately 80% of fishkeeping hobbyists feed their fish exclusively prepared foods that most commonly are produced in flake, pellet or tablet form.[9] Pelleted forms, some of which sink rapidly, are often used for larger fish or bottom-feeding species such as loaches or catfish.[10] Some fish foods also contain additives, such as beta carotene or sex hormones, to artificially enhance the color of ornamental fish.\n",
        "\n",
        "Bird food\n",
        "\n",
        "Bushtits eating suet from a bird feeder\n",
        "Main article: Bird food\n",
        "Bird foods are used both in birdfeeders and to feed pet birds. It typically consist of a variety of seeds. However, not all birds eat seeds. Nectar (essentially sugar water) attracts hummingbirds.[11]\n",
        "\n",
        "Cat food\n",
        "\n",
        "Cat with a bowl of pelleted cat food.\n",
        "Main article: Cat food\n",
        "Cats are obligate carnivores, though most commercial cat food contains both animal and plant material supplemented with vitamins, minerals and other nutrients. Cat food is formulated to address the specific nutritional requirements of cats, in particular containing the amino acid taurine, as cats cannot thrive on taurine-deficient food.[12] Optimal levels of taurine for cat food have been established by the Waltham Centre for Pet Nutrition.[13]\n",
        "\n",
        "Dog food\n",
        "Main article: Dog food\n",
        "Recommendations differ on what diet is best for dogs. Some people argue dogs have thrived on leftovers and scraps from their human owners for thousands of years, and commercial dog foods (which have only been available for the past century) contain poor-quality meats, additives, and other ingredients dogs should not ingest, or that commercial dog food is not nutritionally sufficient for their dogs. However, many commercial brands are formulated using insights gained from scientific nutritional studies[14] and there is no reliable peer-reviewed evidence that domestic options are superior. Most store-bought pet food comes in either dry form, also known as kibble, or wet, canned form.\n",
        "\n",
        "Raw feeding\n",
        "Main article: Raw feeding\n",
        "Raw feeding is the practice of feeding domestic dogs, cats and other animals a diet consisting primarily of uncooked meat, edible bones, and organs. The ingredients used to formulate raw diets can vary. Some pet owners choose to make home-made raw diets to feed their animals but commercial raw food diets are also available.\n",
        "\n",
        "The practice of feeding raw diets has raised some concerns due to the risk of food borne illnesses, zoonosis and nutritional imbalances.[15] People who feed their dogs raw food do so for a multitude of reasons, including but not limited to: culture, beliefs surrounding health, nutrition and what is perceived to be more natural for their pets.[16] Feeding raw food can be perceived as allowing the pet to stay in touch with their wild, carnivorous ancestry.[16] The raw food movement has occurred in parallel to the change in human food trends for more natural and organic products.[17]\n",
        "\n",
        "Feeding human foods to animals\n",
        "Prepared foods and some raw ingredients may be toxic for animals, and care should be taken when feeding animals leftover food. It is known that the following foods are potentially unsafe for cats, dogs and pigs:\n",
        "\n",
        "Chocolate, coffee-based products and soft drinks[18][19]\n",
        "Raisins and grapes[18][19]\n",
        "Macadamia nuts[18][19]\n",
        "Garlic (in large doses) and onions[18]\n",
        "Alcohol[19]\n",
        "Generally, cooked and marinated foods should be avoided, as well as sauces and gravies, which may contain ingredients that, although well tolerated by humans, may be toxic to animals. Xylitol, an alternative sweetener found in chewing gum and baked goods designed for diabetics, is highly toxic to cats, dogs, and ferrets.[20][21]\n",
        "\n",
        "Labeling and regulation\n",
        "United States\n",
        "In the United States and its associated territories, all pet food is regulated by the Food and Drug Administration (FDA), the United States Department of Agriculture (USDA), and the Federal Trade Commission (FTC). It is further regulated at the state level.[22] State Department of Agriculture officials, major feed manufacturers, and ingredient suppliers form the Association of American Feed Control Officials (AAFCO), a non-government agency that establishes guidelines and standards on feed laws and regulations. Although government officials do comprise a large portion of AAFCO, it has no regulatory authority and acts simply as an advisory body, working closely with the FDA to develop standards that food consumed by animals must meet. AAFCO leaves the responsibility of regulating these standards to the individual states. Most states have adopted the guidelines set forth by AAFCO.[23]\n",
        "\n",
        "AAFCO requires that all pet food products sold in the United States have labels that contain eight components:\n",
        "\n",
        "Brand and Product Name: These rules address the use of ingredient names in the product name. How ingredients may be included in the product name depends on the percentage of that ingredient in the product, and the use of certain descriptors. For example, there are different rules for \"Beef Dog Food\", \"Beef Recipe Dog Food\", \"Dog Food with Beef\" and \"Beef Flavor Dog Food\".\n",
        "Name of Species for which the pet food is intended: This must be conspicuously designated in words on the principal display panel, but may be included in the product name, such as \"Beef Dog Food\" or \"Salmon Treats for Cats\".\n",
        "Quantity Statement: This is the net weight or net volume, and it must be expressed in the correct units and placed on the lower third of the principal display panel.\n",
        "Guaranteed Analysis: This lists the percentage of each of the nutrients in the food. The minimum percent of crude protein and crude fat, the maximum percent of crude fiber, and moisture are always required. Note that \"crude\" refers to the analysis method, rather than the quality of the nutrient.\n",
        "Ingredient Statement: Ingredients must be listed in order of predominance by weight, on an \"as formulated basis\". The ingredient that makes up the highest percentage of the total weight as it goes into the product is listed first.\n",
        "Nutritional Adequacy Statement: This is a statement that indicates the food is complete and balanced for a particular life stage, such as growth, reproduction, adult maintenance or a combination of these, or intended for intermittent or supplemental feeding only. AAFCO makes rules for nutrient levels required for such a statement. Products conspicuously identified on the principal display panel as a snack, treat, or supplement are exempt.\n",
        "Feeding Directions: All pet foods labeled as complete and balanced for any or all life stages must include feeding directions that, at a minimum, state \"Feed (amount of product) per (weight) of dog/cat\". Feeding frequency must also be stated. Feeding directions are optional for treats, as long as they are labeled as snacks or treats.\n",
        "Name and address of manufacturer or distributor: This names the pet food company as guarantor of the product and gives the company's location. If the company uses a separate manufacturer for actual production or distribution, the label must show that relationship by using the words \"Manufactured for\" or \"Distributed by\".[24]\n",
        "Dog and cat foods labeled as \"complete and balanced\" must meet standards established by the AAFCO either by meeting a nutrient profile or by passing a feeding trial. Cat and dog food nutrient profiles were established by the AAFCO's Feline Nutrition Expert Subcommittee (1991–1992) and the Canine Nutrition Expert Subcommittee (1990–1991), respectively. The nutrient profiles were updated in 2016.[25]\n",
        "\n",
        "Products found to be \"complete and balanced\" by feeding trials bear the label statement \"animal feeding tests using AAFCO procedures substantiate that (name of product) provides complete and balanced nutrition.\" The protocol requires six of eight animals complete a 26-week feeding trial without showing clinical or pathological signs of nutritional deficiency or excess. The cats' or dogs' general health is evaluated by a veterinarian before and after the test. Four blood values (hemoglobin, packed cell volume, serum alkaline phosphatase and serum albumin) are measured after the trial, and the average values of the test subjects must meet minimum levels. No animal is allowed to lose more than 15% of its starting weight.\n",
        "\n",
        "Products formulated with ingredients to meet the established nutrient profile would include the following statement, \"(Name of product) is formulated to meet the nutritional levels established by the AAFCO Cat/Dog Food Nutrient Profiles.\" There are two separate nutrient profiles - one for \"growth and reproduction\" and one for \"adult maintenance\". The nutritional adequacy statement would include information on the life stage(s) for which the product is suitable. A product labeled as \"for all life stages\" must meet the more stringent nutrient profile for \"growth and reproduction\". Products labeled as \"intended for intermittent or supplemental feeding\" do not need to meet either profile.\n",
        "\n",
        "The \"Family Rule\" allows a manufacturer to have a product that is \"nutritionally similar\" to another product in the same \"family\" to adopt the latter's \"complete and balanced\" statement without itself undergoing any feeding tests. The \"similar\" food must be of the same processing type; contain the same moisture content; bear a statement of nutritional adequacy for the same or less demanding life stage as the lead product; contain a dry matter, metabolizable energy (ME) content within 7.5% of the lead product's dry matter; meet the same levels of crude protein, calcium, phosphorus, zinc, lysine, thiamine (and for cat foods, potassium and taurine) as the lead food; and meet or exceed the nutrient levels and ratios of the lead family product or the AAFCO nutrient profiles, whichever is lower. The label statement on the similar food can be the same as the lead product if the ME is substantiated by the 10-day ME feeding study.[24]\n",
        "\n",
        "Critics of the AAFCO standards argue that such requirements are too lax. Generational studies conducted by researchers at University of California, Davis have shown some foods that pass AAFCO's feeding trials are still not suitable for long-term use and estimated that of 100 foods that pass the nutritional analysis, 10 to 20 would not pass the feeding trials. Although maximum levels of intake of some nutrients have been established because of concerns with overnutrition, many still lack a maximum allowed level and some contains large disparity between maximum and minimum values. The NRC accepts that despite ongoing research, large gaps still exist in the knowledge of quantitative nutritional information for specific nutrients.[26] Some professionals acknowledge the possibilities of phytochemicals and other vital nutrients that have yet to be recognized as essential by nutritional science. With such broad guidelines and loose feeding trial standards, critics argue that the term \"complete and balanced\" is inaccurate and even deceptive. An AAFCO panel expert has stated that \"although the AAFCO profiles are better than nothing, they provide false securities.\"[27]\n",
        "\n",
        "Certain manufacturers label their products with terms such as premium, ultra premium, and holistic. Such terms currently have no official definitions. The AAFCO is currently considering defining some of the terms. However, the terms \"natural\" and \"organic\" do have definitions; e.g., organic products must meet the same USDA regulations as for organic human food.\n",
        "\n",
        "Canada\n",
        "In Canada, products that pass the Canadian Veterinary Medical Association (CVMA) Pet Food Certification Program, which involves a feeding trial, carry a CVMA label on their packaging. Participation in the program is voluntary. The program was discontinued at the end of 2007.[28] There is no government regulation of pet food manufactured in Canada. However, imported pet food does receive stringent oversight.[29]\n",
        "\n",
        "European Union\n",
        "In the European Union, pet food is regulated by the same harmonized standards across the EU, via the Feeding Stuffs Act.[30]\n",
        "\n",
        "All ingredients used for pet food have to be fit for human consumption according to EU requirements. But regulations require that pet food that contains by-products be labeled as \"Not for human consumption\" even though such by-products have to be derived from animals declared fit for human consumption. Raw pet food has to be labeled \"Pet food only\".[31]\n",
        "\n",
        "Products meant for daily feeding are labeled \"complete feedingstuff\" or \"complete petfood\" or other EU languages equivalent. Products meant for intermittent feeding are labeled \"complementary feedingstuff or \"complementary pet food\" while products with an ash content of over 40% are labeled \"mineral feedingstuff\". Ingredients are listed in descending order by weight.[32]\n",
        "\n",
        "With the released Commission Regulation (EU) No 107/2013, the European Union has set new maximum levels for melamine in canned pet food. According to results of an in-depth research of the 2007 pet food crisis, melamine used in coatings for pet food cans can migrate into the food. Therefore, the regular melamine migration limit (SML) of 2.5 mg/kg for food and feed has been expanded to pet food. This limit is valid for canned wet pet food on an ‘as sold’ basis.[33]\n",
        "\n",
        "The European Union does not use a unified nutrient requirement.[34] A manufacturer committee called FEDIAF (European Pet Food Industry Federation) makes recommendations for cats and dogs that members follow.[35]\n",
        "\n",
        "2007 recalls\n",
        "Main article: 2007 pet food recalls\n",
        "Beginning in March 2007, there were massive recalls of many brands of cat and dog foods. The recalls came in response to reports of kidney failure in pets consuming mostly wet pet foods made with wheat gluten from a single Chinese company, beginning in February 2007. After more than three weeks of complaints from consumers, the recall began voluntarily with the Canadian company Menu Foods on March 16, 2007, when a company test showed sickness and death in some of the test animals. Soon after, there were numerous media reports of animal deaths as a result of kidney failure, and several other companies who received the contaminated wheat gluten also voluntarily recalled dozens of pet food brands. Menu Foods recalled almost over 50 brands of dog food,[36] and over 40 brands of cat food.[37] Nestlé Purina PetCare withdrew all sizes and varieties of Alpo \"Prime Cuts in Gravy\".[38] Some companies were not affected and utilized the situation to generate sales for alternative pet foods.[39]\n",
        "\n",
        "By the end of March, veterinary organizations reported more than 100 pet deaths amongst nearly 500 cases of kidney failure, with one online database self-reporting as many as 3,600 deaths as of April 11. As of April 8, Menu Foods has confirmed only about 16 deaths. The U.S. Food and Drug Administration refuses to estimate the amount of sick or dead because there is no centralized government records database of animal sickness or death in the United States as there are with humans (such as the Centers for Disease Control). As a result, many sources speculate that the actual number of affected pets may never be known and experts are concerned that the actual death toll could potentially reach into the thousands.\n",
        "\n",
        "Overall, several major companies have recalled more than 100 brands of pet foods, with most of the recalled product coming from Menu Foods. Although there are several theories of the source of the agent causing sickness in affected animals, with extensive government and private testing and forensic research, to date, no definitive cause has been isolated. As of April 10, the most likely cause, according to the FDA, though not yet proven, is indicated by the presence of melamine in wheat gluten in the affected foods. The Chinese company behind the contaminated wheat gluten has initially denied any involvement in the contamination, but is cooperating with Chinese and American investigators.\n",
        "\n",
        "In the United States, there has been extensive media coverage of the recall. There has been widespread public outrage and calls for government regulation of pet foods, which had previously been self-regulated by pet food manufacturers. The United States Senate held an oversight hearing on the matter by April 12. The economic impact on the pet food market has been extensive, with Menu Foods losing roughly $30 Million alone from the recall. The events have caused distrust of most processed pet foods in some consumers.\"\"\""
      ],
      "execution_count": null,
      "outputs": []
    },
    {
      "cell_type": "code",
      "metadata": {
        "id": "_6dB5LmdPvPO",
        "outputId": "a0d35879-4c35-41b3-afa3-7dd73ccbe9e6",
        "colab": {
          "base_uri": "https://localhost:8080/",
          "height": 34
        }
      },
      "source": [
        "result=predictor.predict(\n",
        "  passage=passage,\n",
        "  question=\"where is bird feed used?\"\n",
        ")\n",
        "result['best_span_str']"
      ],
      "execution_count": null,
      "outputs": [
        {
          "output_type": "execute_result",
          "data": {
            "text/plain": [
              "'The remaining five union territories are directly ruled by the centre through appointed administrators'"
            ]
          },
          "metadata": {
            "tags": []
          },
          "execution_count": 6
        }
      ]
    }
  ]
}